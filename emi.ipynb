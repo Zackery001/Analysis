{
 "cells": [
  {
   "attachments": {},
   "cell_type": "markdown",
   "metadata": {},
   "source": [
    "This is the formula to calculate the EMI for a loan:"
   ]
  },
  {
   "attachments": {},
   "cell_type": "markdown",
   "metadata": {},
   "source": [
    "EMI = [P x R x (1+R)^N]/[ (1+R)^N-1 ]\n",
    "\n",
    "where,\n",
    "P = Principal amount of the loan\n",
    "R = Interest rate per month (i.e., annual interest rate divided by 12)\n",
    "N = Number of monthly installments"
   ]
  },
  {
   "attachments": {},
   "cell_type": "markdown",
   "metadata": {},
   "source": [
    "PROBLEM "
   ]
  },
  {
   "attachments": {},
   "cell_type": "markdown",
   "metadata": {},
   "source": [
    "let's say you take a loan of $10,000 at an annual interest rate of 10% to be repaid over a period of 3 years (36 months)\n",
    "\n",
    "P = $10,000\n",
    "R = 10%/12 = 0.00833 (monthly interest rate)\n",
    "N = 36\n",
    "\n",
    "Plugging these values into the above formula, we get:\n",
    "\n",
    "EMI = [10,000 x 0.00833 x (1+0.00833)^36]/[ (1+0.00833)^36-1] = $321.60 (rounded off)"
   ]
  },
  {
   "cell_type": "code",
   "execution_count": 1,
   "metadata": {},
   "outputs": [],
   "source": [
    "def calculate_emi(amount, interestRate, monthNumber, downPayment=0):\n",
    "    loanAmount = amount - downPayment\n",
    "    interestRate = (interestRate / 100)/12\n",
    "    emi = loanAmount*interestRate*((1+interestRate)**monthNumber) / (((1+interestRate)**monthNumber)-1)\n",
    "    return f\"The EMI is{emi}\""
   ]
  },
  {
   "cell_type": "code",
   "execution_count": 6,
   "metadata": {},
   "outputs": [
    {
     "data": {
      "text/plain": [
       "'The EMI is 322.6718719383758'"
      ]
     },
     "execution_count": 6,
     "metadata": {},
     "output_type": "execute_result"
    }
   ],
   "source": [
    "calculate_emi(10000, 10, 36)"
   ]
  },
  {
   "cell_type": "code",
   "execution_count": 7,
   "metadata": {},
   "outputs": [
    {
     "data": {
      "text/plain": [
       "'The EMI is 258.13749755070063'"
      ]
     },
     "execution_count": 7,
     "metadata": {},
     "output_type": "execute_result"
    }
   ],
   "source": [
    "calculate_emi(10000, 10, 36, 2000)"
   ]
  }
 ],
 "metadata": {
  "kernelspec": {
   "display_name": "base",
   "language": "python",
   "name": "python3"
  },
  "language_info": {
   "codemirror_mode": {
    "name": "ipython",
    "version": 3
   },
   "file_extension": ".py",
   "mimetype": "text/x-python",
   "name": "python",
   "nbconvert_exporter": "python",
   "pygments_lexer": "ipython3",
   "version": "3.10.9"
  },
  "orig_nbformat": 4
 },
 "nbformat": 4,
 "nbformat_minor": 2
}
