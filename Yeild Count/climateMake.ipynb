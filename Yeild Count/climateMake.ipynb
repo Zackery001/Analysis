{
 "cells": [
  {
   "cell_type": "code",
   "execution_count": null,
   "id": "099cee95",
   "metadata": {},
   "outputs": [],
   "source": [
    "import csv\n",
    "import random"
   ]
  },
  {
   "cell_type": "code",
   "execution_count": null,
   "id": "e8163fe8",
   "metadata": {},
   "outputs": [],
   "source": [
    "with open('climate.txt', mode='w', newline='') as file:\n",
    "    writer = csv.writer(file)\n",
    "    writer.writerow(['temperature', 'rainfall', 'humidity'])\n",
    "    for i in range(1000):\n",
    "        temperature = random.uniform(10, 40)\n",
    "        rainfall = random.uniform(0, 10)\n",
    "        humidity = random.uniform(10, 90)\n",
    "        writer.writerow([round(temperature), round(rainfall), round(humidity)])"
   ]
  },
  {
   "cell_type": "code",
   "execution_count": null,
   "id": "e4cf3132",
   "metadata": {},
   "outputs": [],
   "source": []
  }
 ],
 "metadata": {
  "kernelspec": {
   "display_name": "Python 3 (ipykernel)",
   "language": "python",
   "name": "python3"
  },
  "language_info": {
   "codemirror_mode": {
    "name": "ipython",
    "version": 3
   },
   "file_extension": ".py",
   "mimetype": "text/x-python",
   "name": "python",
   "nbconvert_exporter": "python",
   "pygments_lexer": "ipython3",
   "version": "3.10.9"
  }
 },
 "nbformat": 4,
 "nbformat_minor": 5
}
