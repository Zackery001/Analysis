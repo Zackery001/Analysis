{
 "cells": [
  {
   "cell_type": "markdown",
   "id": "84bc7c2a",
   "metadata": {},
   "source": [
    "Given the temperature, rainfall, humidity of a few places, we are to find the crop yeild of the places multiply each of the \n",
    "mentioned factor with some given weight and adding it all."
   ]
  },
  {
   "cell_type": "code",
   "execution_count": null,
   "id": "59d060cf",
   "metadata": {},
   "outputs": [],
   "source": [
    "!pip install numpy"
   ]
  },
  {
   "cell_type": "code",
   "execution_count": null,
   "id": "cc7cdaa4",
   "metadata": {},
   "outputs": [],
   "source": [
    "#importing necessary module\n",
    "\n",
    "import numpy as np"
   ]
  },
  {
   "cell_type": "code",
   "execution_count": null,
   "id": "197e7590",
   "metadata": {},
   "outputs": [],
   "source": [
    "#Forming an array in variable climate_data from climate.txt file\n",
    "climate_data = np.genfromtxt('climate.txt', delimiter=',',skip_header=1)"
   ]
  },
  {
   "cell_type": "code",
   "execution_count": null,
   "id": "27a82c5c",
   "metadata": {},
   "outputs": [],
   "source": [
    "climate_data.shape"
   ]
  },
  {
   "cell_type": "code",
   "execution_count": null,
   "id": "05080f61",
   "metadata": {},
   "outputs": [],
   "source": [
    "#Given weights\n",
    "weights= np.array([0.3,0.2,0.5])\n",
    "\n",
    "#Dot product of climate_data and weights\n",
    "yeild=climate_data@weights"
   ]
  },
  {
   "cell_type": "code",
   "execution_count": null,
   "id": "bb58317b",
   "metadata": {},
   "outputs": [],
   "source": [
    "#Adding the dot product to climate_result\n",
    "climate_result=np.concatenate((climate_data, yeild.reshape(1000,1)), axis=1)\n",
    "\n",
    "climate_result"
   ]
  },
  {
   "cell_type": "code",
   "execution_count": null,
   "id": "4583640d",
   "metadata": {},
   "outputs": [],
   "source": [
    "#Making a csv file, adding new row 'yeild' to it and placing the result for each row\n",
    "with open('output.csv', mode='w', newline='') as file:\n",
    "    \n",
    "    writer = csv.writer(file)\n",
    "    writer.writerow(['temperature', 'rainfall', 'humidity', 'yeild'])\n",
    "\n",
    "    for row in climate_result:\n",
    "        writer.writerow(row)"
   ]
  }
 ],
 "metadata": {
  "kernelspec": {
   "display_name": "Python 3 (ipykernel)",
   "language": "python",
   "name": "python3"
  },
  "language_info": {
   "codemirror_mode": {
    "name": "ipython",
    "version": 3
   },
   "file_extension": ".py",
   "mimetype": "text/x-python",
   "name": "python",
   "nbconvert_exporter": "python",
   "pygments_lexer": "ipython3",
   "version": "3.10.9"
  }
 },
 "nbformat": 4,
 "nbformat_minor": 5
}
