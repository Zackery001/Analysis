{
 "cells": [
  {
   "cell_type": "code",
   "execution_count": 6,
   "id": "4ffdbcee",
   "metadata": {},
   "outputs": [],
   "source": [
    "import math\n",
    "\n",
    "def city_cost(city, flight_cost, hotel_cost, car_rental_cost, duration=7):\n",
    "    total_cost = flight_cost + (hotel_cost * duration) +(car_rental_cost*math.ceil(duration/7))\n",
    "    return total_cost\n",
    "\n",
    "def cheapest_city(cities):\n",
    "    cheapest = cities[0]\n",
    "    for city in cities:\n",
    "        if city_cost(city[0], city[1], city[2], city[3]) < city_cost(cheapest[0], cheapest[1], cheapest[2], cheapest[3]):\n",
    "            cheapest = city\n",
    "    return cheapest[0]\n",
    "\n",
    "def longest_trip(cities, budget):\n",
    "    longest = cities[0]\n",
    "    for city in cities:\n",
    "        days = (budget - city[1] - city[3]) // (city[2] * 7)\n",
    "        if days > (budget - longest[1] - longest[3]) // (longest[2] * 7):\n",
    "            longest = city\n",
    "    return longest[0]\n"
   ]
  },
  {
   "cell_type": "code",
   "execution_count": 11,
   "id": "03682090",
   "metadata": {
    "scrolled": false
   },
   "outputs": [
    {
     "name": "stdout",
     "output_type": "stream",
     "text": [
      "The cheapest city to visit is London\n",
      "The city to maximize the duration of the trip is Mumbai\n"
     ]
    }
   ],
   "source": [
    "cities = [(\"Mumbai\", 200, 50, 150, 14), (\"London\", 150, 60, 120, 14), (\"Paris\", 180, 70, 130, 14)]\n",
    "\n",
    "print(\"The cheapest city to visit is\", cheapest_city(cities))\n",
    "print(\"The city to maximize the duration of the trip is\", longest_trip(cities, 1000))"
   ]
  },
  {
   "cell_type": "code",
   "execution_count": null,
   "id": "fbe263de",
   "metadata": {},
   "outputs": [],
   "source": []
  }
 ],
 "metadata": {
  "kernelspec": {
   "display_name": "Python 3 (ipykernel)",
   "language": "python",
   "name": "python3"
  },
  "language_info": {
   "codemirror_mode": {
    "name": "ipython",
    "version": 3
   },
   "file_extension": ".py",
   "mimetype": "text/x-python",
   "name": "python",
   "nbconvert_exporter": "python",
   "pygments_lexer": "ipython3",
   "version": "3.10.9"
  }
 },
 "nbformat": 4,
 "nbformat_minor": 5
}
