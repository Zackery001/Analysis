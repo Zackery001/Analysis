{
 "cells": [
  {
   "cell_type": "code",
   "execution_count": 1,
   "metadata": {},
   "outputs": [
    {
     "name": "stdout",
     "output_type": "stream",
     "text": [
      "17 32\n"
     ]
    }
   ],
   "source": [
    "selling_price = 32\n",
    "cost_price = 17\n",
    "\n",
    "print(cost_price,selling_price)\n",
    "\n"
   ]
  },
  {
   "cell_type": "code",
   "execution_count": 2,
   "id": "1e52f0f1",
   "metadata": {},
   "outputs": [
    {
     "name": "stdout",
     "output_type": "stream",
     "text": [
      "15 88\n"
     ]
    }
   ],
   "source": [
    "profit = selling_price-cost_price\n",
    "profit_percentage = (profit/cost_price)*100\n",
    "\n",
    "profit_percentage = round(profit_percentage)\n",
    "\n",
    "print(profit,profit_percentage)"
   ]
  },
  {
   "cell_type": "code",
   "execution_count": 3,
   "id": "90249396",
   "metadata": {},
   "outputs": [
    {
     "name": "stdout",
     "output_type": "stream",
     "text": [
      "Mr. Robert bought an apple for $ {} and sold it to his friend Mr Smith for $ {}. \n",
      "                    Therefore, Mr. Robert earned a profit of $ {} and the profit percentage is $ {}.\n"
     ]
    }
   ],
   "source": [
    "output_template = '''Mr. Robert bought an apple for $ {} and sold it to his friend Mr Smith for $ {}. \n",
    "                    Therefore, Mr. Robert earned a profit of $ {} and the profit percentage is $ {}.'''\n",
    "\n",
    "print(output_template)"
   ]
  },
  {
   "cell_type": "code",
   "execution_count": 4,
   "id": "5760dab0",
   "metadata": {},
   "outputs": [
    {
     "name": "stdout",
     "output_type": "stream",
     "text": [
      "Mr. Robert bought an apple for $ 17 and sold it to his friend Mr Smith for $ 32. \n",
      "                    Therefore, Mr. Robert earned a profit of $ 15 and the profit percentage is $ 88.\n"
     ]
    }
   ],
   "source": [
    "input_template = output_template.format(cost_price, selling_price, profit, profit_percentage)\n",
    "print(input_template)"
   ]
  }
 ],
 "metadata": {
  "kernelspec": {
   "display_name": "Python 3",
   "language": "python",
   "name": "python3"
  },
  "language_info": {
   "codemirror_mode": {
    "name": "ipython",
    "version": 3
   },
   "file_extension": ".py",
   "mimetype": "text/x-python",
   "name": "python",
   "nbconvert_exporter": "python",
   "pygments_lexer": "ipython3",
   "version": "3.10.9"
  }
 },
 "nbformat": 4,
 "nbformat_minor": 5
}
